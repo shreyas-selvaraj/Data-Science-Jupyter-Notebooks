{
  "nbformat": 4,
  "nbformat_minor": 0,
  "metadata": {
    "colab": {
      "name": "1E.ipynb",
      "provenance": [],
      "collapsed_sections": [],
      "authorship_tag": "ABX9TyP2zU5eTIOsopEfICERJzoA"
    },
    "kernelspec": {
      "name": "python3",
      "display_name": "Python 3"
    }
  },
  "cells": [
    {
      "cell_type": "code",
      "metadata": {
        "id": "lV3wRu-DCzk2",
        "colab_type": "code",
        "colab": {
          "base_uri": "https://localhost:8080/",
          "height": 122
        },
        "outputId": "5dfea5fd-818f-47c8-f1ff-d63736b89d71"
      },
      "source": [
        "from google.colab import drive\n",
        "drive.mount('drive')"
      ],
      "execution_count": null,
      "outputs": [
        {
          "output_type": "stream",
          "text": [
            "Go to this URL in a browser: https://accounts.google.com/o/oauth2/auth?client_id=947318989803-6bn6qk8qdgf4n4g3pfee6491hc0brc4i.apps.googleusercontent.com&redirect_uri=urn%3aietf%3awg%3aoauth%3a2.0%3aoob&response_type=code&scope=email%20https%3a%2f%2fwww.googleapis.com%2fauth%2fdocs.test%20https%3a%2f%2fwww.googleapis.com%2fauth%2fdrive%20https%3a%2f%2fwww.googleapis.com%2fauth%2fdrive.photos.readonly%20https%3a%2f%2fwww.googleapis.com%2fauth%2fpeopleapi.readonly\n",
            "\n",
            "Enter your authorization code:\n",
            "··········\n",
            "Mounted at drive\n"
          ],
          "name": "stdout"
        }
      ]
    },
    {
      "cell_type": "code",
      "metadata": {
        "id": "GCwZt1seDj6X",
        "colab_type": "code",
        "colab": {
          "base_uri": "https://localhost:8080/",
          "height": 295
        },
        "outputId": "d9a64f25-c117-4036-f961-023ce39e869c"
      },
      "source": [
        "#create numpy arrays for data, plot one histogram, then plot other with color\n",
        "import numpy as np\n",
        "import matplotlib.pyplot as plt\n",
        "\n",
        "reaction_data = np.loadtxt(\"/content/drive/My Drive/1E Data - Sheet1.csv\", delimiter = ',')\n",
        "led_data = reaction_data[:,0]\n",
        "buzzer_data = reaction_data[:,1]\n",
        "\n",
        "plt.hist(led_data, bins = 25, color = 'red', alpha = 0.5, label = \"LED\")\n",
        "plt.hist(buzzer_data, bins = 25, color = 'black', alpha = 0.5, label = \"BUZZER\")\n",
        "plt.xlabel(\"Reaction Time(ms)\")\n",
        "plt.ylabel(\"Frequency\")\n",
        "plt.title(\"Reaction Time LED vs. Buzzer\")\n",
        "plt.legend()\n",
        "\n",
        "def gaussian_function(x, a, sigma, mu):\n",
        "  y = a * np.exp(-(x - mu)**2. / (2. * sigma**2.))\n",
        "  return y\n",
        "\n",
        "# led_curve_array = gaussian_function(led_data, np.amax(led_data), 74.73613316194518, 232.52)\n",
        "# buzzer_curve_array = gaussian_function(buzzer_data, np.amax(buzzer_data), 49.16032546678266, 201.32)\n",
        "\n",
        "# plt.plot(led_data, led_curve_array, color = 'blue', linewidth = 3.0)\n",
        "# plt.plot(buzzer_data, buzzer_curve_array, color = 'yellow', linewidth = 3.0)"
      ],
      "execution_count": null,
      "outputs": [
        {
          "output_type": "display_data",
          "data": {
            "image/png": "[encoded data removed]",
            "text/plain": [
              "<Figure size 432x288 with 1 Axes>"
            ]
          },
          "metadata": {
            "tags": [],
            "needs_background": "light"
          }
        }
      ]
    },
    {
      "cell_type": "code",
      "metadata": {
        "id": "JskltBxyT3jv",
        "colab_type": "code",
        "colab": {}
      },
      "source": [
        ""
      ],
      "execution_count": null,
      "outputs": []
    },
    {
      "cell_type": "code",
      "metadata": {
        "id": "-mUAvmMOFrrd",
        "colab_type": "code",
        "colab": {
          "base_uri": "https://localhost:8080/",
          "height": 85
        },
        "outputId": "365e09cf-cad0-43b0-b39e-22aca6163952"
      },
      "source": [
        "#calculate average and std dev\n",
        "#LED\n",
        "print(\"LED std: \" + str(np.std(led_data)))\n",
        "print(\"LED mean: \" + str(np.mean(led_data)))\n",
        "#BUZZER\n",
        "print(\"BUZZER std: \" + str(np.std(buzzer_data)))\n",
        "print(\"BUZZER mean: \" + str(np.mean(buzzer_data)))"
      ],
      "execution_count": null,
      "outputs": [
        {
          "output_type": "stream",
          "text": [
            "LED std: 74.73613316194518\n",
            "LED mean: 232.52\n",
            "BUZZER std: 49.16032546678266\n",
            "BUZZER mean: 201.32\n"
          ],
          "name": "stdout"
        }
      ]
    },
    {
      "cell_type": "code",
      "metadata": {
        "id": "Om094zmeL5Nq",
        "colab_type": "code",
        "colab": {
          "base_uri": "https://localhost:8080/",
          "height": 34
        },
        "outputId": "fb535563-5e35-48e5-cc62-600bcd924e72"
      },
      "source": [
        "from scipy import stats\n",
        "stats.ttest_ind(led_data,buzzer_data)"
      ],
      "execution_count": null,
      "outputs": [
        {
          "output_type": "execute_result",
          "data": {
            "text/plain": [
              "Ttest_indResult(statistic=2.4414464057403142, pvalue=0.01642199858844007)"
            ]
          },
          "metadata": {
            "tags": []
          },
          "execution_count": 14
        }
      ]
    },
    {
      "cell_type": "code",
      "metadata": {
        "id": "PQhymDS0L_c8",
        "colab_type": "code",
        "colab": {
          "base_uri": "https://localhost:8080/",
          "height": 312
        },
        "outputId": "5dc8730f-b401-46b4-b826-5e5dc5793c23"
      },
      "source": [
        "reaction_data_100 = np.loadtxt(\"/content/drive/My Drive/1E100.csv\", delimiter = ',')\n",
        "led_data_100 = reaction_data_100[:,0]\n",
        "buzzer_data_100 = reaction_data_100[:,1]\n",
        "plt.hist(led_data_100, bins = 50, color = 'red', alpha = 0.5, label = \"LED\")\n",
        "plt.hist(buzzer_data_100, bins = 50, color = 'black', alpha = 0.5, label = \"BUZZER\")\n",
        "plt.xlabel(\"Reaction Time(ms)\")\n",
        "plt.ylabel(\"Frequency\")\n",
        "plt.title(\"Reaction Time LED vs. Buzzer\")\n",
        "plt.legend()"
      ],
      "execution_count": null,
      "outputs": [
        {
          "output_type": "execute_result",
          "data": {
            "text/plain": [
              "<matplotlib.legend.Legend at 0x7f6b86eaa198>"
            ]
          },
          "metadata": {
            "tags": []
          },
          "execution_count": 22
        },
        {
          "output_type": "display_data",
          "data": {
            "image/png": "[encoded data removed]",
            "text/plain": [
              "<Figure size 432x288 with 1 Axes>"
            ]
          },
          "metadata": {
            "tags": [],
            "needs_background": "light"
          }
        }
      ]
    },
    {
      "cell_type": "code",
      "metadata": {
        "id": "G5SzBpClO36Z",
        "colab_type": "code",
        "colab": {}
      },
      "source": [
        ""
      ],
      "execution_count": null,
      "outputs": []
    },
    {
      "cell_type": "code",
      "metadata": {
        "id": "yJusDyIMT2Za",
        "colab_type": "code",
        "colab": {}
      },
      "source": [
        ""
      ],
      "execution_count": null,
      "outputs": []
    },
    {
      "cell_type": "code",
      "metadata": {
        "id": "AitGRmjAMPNa",
        "colab_type": "code",
        "colab": {
          "base_uri": "https://localhost:8080/",
          "height": 85
        },
        "outputId": "718051a2-b022-4a80-bffd-4d20b466cb26"
      },
      "source": [
        "#calculate average and std dev\n",
        "#LED\n",
        "print(\"LED std: \" + str(np.std(led_data_100)))\n",
        "print(\"LED mean: \" + str(np.mean(led_data_100)))\n",
        "#BUZZER\n",
        "print(\"BUZZER std: \" + str(np.std(buzzer_data_100)))\n",
        "print(\"BUZZER mean: \" + str(np.mean(buzzer_data_100)))"
      ],
      "execution_count": null,
      "outputs": [
        {
          "output_type": "stream",
          "text": [
            "LED std: 73.61229448943973\n",
            "LED mean: 224.49\n",
            "BUZZER std: 61.80740732307091\n",
            "BUZZER mean: 203.38\n"
          ],
          "name": "stdout"
        }
      ]
    },
    {
      "cell_type": "code",
      "metadata": {
        "id": "XQj4ptTQMVfl",
        "colab_type": "code",
        "colab": {
          "base_uri": "https://localhost:8080/",
          "height": 34
        },
        "outputId": "5e62fb77-495d-4e87-db33-5b296ea30514"
      },
      "source": [
        "stats.ttest_ind(led_data_100,buzzer_data_100)"
      ],
      "execution_count": null,
      "outputs": [
        {
          "output_type": "execute_result",
          "data": {
            "text/plain": [
              "Ttest_indResult(statistic=2.1852196546307474, pvalue=0.030046394751225614)"
            ]
          },
          "metadata": {
            "tags": []
          },
          "execution_count": 18
        }
      ]
    },
    {
      "cell_type": "markdown",
      "metadata": {
        "id": "ZCidZRwOOYAn",
        "colab_type": "text"
      },
      "source": [
        "The mean reaction time for the LED is about 20ms higher than the mean time for the buzzer. Also the standard deviation is slightly higher by 10ms. This means that it takes longer for the participant to react to the LED and the single reaction tests differ more from one another. This could be because of the lighting in the environment that affects seeing the LED as well as the location of the button where it was placed such that one's finger could block the LED at times. Overall, these changes are somewhat significant because the LED seems to be harder to react to based on the data. Furthermore, looking at the p-value of 0.03, it is less than 0.05 which means that it is statistically significant against the null hypothesis which is that there is nothing causing a significant change in values. Hence, there is a mechanism that is different between the LED and the buzzer that would cause the significant change in data. In this case it is probably the lighting and the ease which the user can see the light versus hear the buzzer. \n"
      ]
    },
    {
      "cell_type": "code",
      "metadata": {
        "id": "WBJJARRgSMYc",
        "colab_type": "code",
        "colab": {
          "base_uri": "https://localhost:8080/",
          "height": 312
        },
        "outputId": "843cecf0-ba2b-49ea-c3a7-fc9e5e59631d"
      },
      "source": [
        "import numpy as np\n",
        "import matplotlib.pyplot as plt\n",
        "reaction_data_100 = np.loadtxt(\"/content/drive/My Drive/1E100.csv\", delimiter = ',')\n",
        "threeled_data = np.loadtxt(\"/content/drive/My Drive/twoled.csv\", delimiter = ',')\n",
        "twoled_data = np.loadtxt(\"/content/drive/My Drive/threeled.csv\", delimiter = ',')\n",
        "led_data_100 = reaction_data_100[:,0]\n",
        "buzzer_data_100 = reaction_data_100[:,1]\n",
        "threeled = threeled_data[:,1]\n",
        "twoled = twoled_data[:,1]\n",
        "#change alpha values?\n",
        "plt.hist(led_data_100, bins = 50, color = 'blue', alpha = 0.7, label = \"1 LED: μ = 224.49, σ = 73.61\")\n",
        "plt.hist(twoled, bins = 50, color = 'red', alpha = 0.5, label = \"2 LEDs: μ = 375.02, σ = 96.14\")\n",
        "plt.hist(threeled, bins = 50, color = 'yellow', alpha = 0.7, label = \"3 LEDs: μ = 481.63, σ = 158.35\")\n",
        "plt.hist(buzzer_data_100, bins = 50, color = 'black', alpha = 0.5, label = \"Buzzer: μ = 203.38, σ = 61.81\")\n",
        "plt.xlabel(\"Reaction Time(ms)\")\n",
        "plt.ylabel(\"Frequency\")\n",
        "plt.title(\"Reaction Time For Different Number of LEDs\")\n",
        "plt.legend()"
      ],
      "execution_count": null,
      "outputs": [
        {
          "output_type": "execute_result",
          "data": {
            "text/plain": [
              "<matplotlib.legend.Legend at 0x7f8252201cc0>"
            ]
          },
          "metadata": {
            "tags": []
          },
          "execution_count": 20
        },
        {
          "output_type": "display_data",
          "data": {
            "image/png": "[encoded data removed]",
            "text/plain": [
              "<Figure size 432x288 with 1 Axes>"
            ]
          },
          "metadata": {
            "tags": [],
            "needs_background": "light"
          }
        }
      ]
    },
    {
      "cell_type": "code",
      "metadata": {
        "id": "W85oDJoaPI0U",
        "colab_type": "code",
        "colab": {
          "base_uri": "https://localhost:8080/",
          "height": 170
        },
        "outputId": "24b18e98-db6d-42c7-8772-2b3610366130"
      },
      "source": [
        "from scipy import stats\n",
        "\n",
        "print(\"1 std: \" + str(np.std(led_data_100)))\n",
        "print(\"1 mean: \" + str(np.mean(led_data_100)))\n",
        "print(\"2 std: \" + str(np.std(twoled)))\n",
        "print(\"2 mean: \" + str(np.mean(twoled)))\n",
        "print(\"3 std: \" + str(np.std(threeled)))\n",
        "print(\"3 mean: \" + str(np.mean(threeled)))\n",
        "#much less than 0.05?\n",
        "print(\"p(1,2): \" + str(stats.ttest_ind(led_data_100,twoled)))\n",
        "print(\"p(1,3): \" + str(stats.ttest_ind(led_data_100,threeled)))\n",
        "print(\"p(2,3): \" + str(stats.ttest_ind(twoled,threeled)))"
      ],
      "execution_count": null,
      "outputs": [
        {
          "output_type": "stream",
          "text": [
            "1 std: 73.61229448943973\n",
            "1 mean: 224.49\n",
            "2 std: 96.13747832318595\n",
            "2 mean: 375.0188679245283\n",
            "3 std: 158.35277801481004\n",
            "3 mean: 481.6306306306306\n",
            "p(1,2): Ttest_indResult(statistic=-12.502815193645292, pvalue=5.311726362886416e-27)\n",
            "p(1,3): Ttest_indResult(statistic=-14.786000880395584, pvalue=2.4785040360852057e-34)\n",
            "p(2,3): Ttest_indResult(statistic=-5.933852303588917, pvalue=1.1717498299827187e-08)\n"
          ],
          "name": "stdout"
        }
      ]
    }
  ]
}