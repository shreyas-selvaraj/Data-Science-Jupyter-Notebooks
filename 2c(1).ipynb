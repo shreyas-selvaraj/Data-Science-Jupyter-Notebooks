{
  "nbformat": 4,
  "nbformat_minor": 0,
  "metadata": {
    "colab": {
      "name": "2c(1).ipynb",
      "provenance": [],
      "collapsed_sections": [],
      "authorship_tag": "ABX9TyNNwvxWEiAt72SUJxh+5VLP"
    },
    "kernelspec": {
      "name": "python3",
      "display_name": "Python 3"
    }
  },
  "cells": [
    {
      "cell_type": "code",
      "metadata": {
        "id": "LNOVZwjnFfA2",
        "colab_type": "code",
        "colab": {
          "base_uri": "https://localhost:8080/",
          "height": 122
        },
        "outputId": "c7cc663f-b329-4d5b-9dfa-6d0bee431e1b"
      },
      "source": [
        "from google.colab import drive\n",
        "drive.mount('drive')"
      ],
      "execution_count": null,
      "outputs": [
        {
          "output_type": "stream",
          "text": [
            "Go to this URL in a browser: https://accounts.google.com/o/oauth2/auth?client_id=947318989803-6bn6qk8qdgf4n4g3pfee6491hc0brc4i.apps.googleusercontent.com&redirect_uri=urn%3aietf%3awg%3aoauth%3a2.0%3aoob&response_type=code&scope=email%20https%3a%2f%2fwww.googleapis.com%2fauth%2fdocs.test%20https%3a%2f%2fwww.googleapis.com%2fauth%2fdrive%20https%3a%2f%2fwww.googleapis.com%2fauth%2fdrive.photos.readonly%20https%3a%2f%2fwww.googleapis.com%2fauth%2fpeopleapi.readonly\n",
            "\n",
            "Enter your authorization code:\n",
            "··········\n",
            "Mounted at drive\n"
          ],
          "name": "stdout"
        }
      ]
    },
    {
      "cell_type": "code",
      "metadata": {
        "id": "rurnFIyjFqHZ",
        "colab_type": "code",
        "colab": {
          "base_uri": "https://localhost:8080/",
          "height": 153
        },
        "outputId": "a3e91e8a-e641-4352-b5fe-250825bba9b7"
      },
      "source": [
        "import numpy as np\n",
        "import matplotlib.pyplot as plt\n",
        "\n",
        "ball_drop = np.loadtxt(\"/content/drive/My Drive/ball_drop_f - yt.csv\", delimiter = \",\")\n",
        "ball_drop_time = ball_drop[:,0]\n",
        "ball_drop_y = ball_drop[:,1]\n",
        "\n",
        "fit_equation, cov = np.polyfit(ball_drop_time, ball_drop_y, 2, cov = True)\n",
        "print(fit_equation[0])\n",
        "print(\"Gravity from fit: \" + str(fit_equation[0] * -2 ))\n",
        "error = np.sqrt(cov[0,0]) / np.abs(fit_equation[0])\n",
        "print(error)\n",
        "grad = np.gradient(ball_drop_y, ball_drop_time)\n",
        "grad2 = np.gradient(grad, ball_drop_time)\n",
        "print(grad2)\n",
        "print(np.mean(grad2))\n",
        "print(np.std(grad2))"
      ],
      "execution_count": null,
      "outputs": [
        {
          "output_type": "stream",
          "text": [
            "-4.491403585866938\n",
            "Gravity from fit: 8.982807171733876\n",
            "0.02093703231672967\n",
            "[ -4.08385878  -7.1069348  -11.10824726  -9.63155379  -8.6024587\n",
            " -11.07165132  -8.2291911   -7.08210111 -10.3319593   -6.62523551\n",
            "  -1.86960192  -1.1706175 ]\n",
            "-7.242784257483298\n",
            "3.2122125152467906\n"
          ],
          "name": "stdout"
        }
      ]
    },
    {
      "cell_type": "code",
      "metadata": {
        "id": "JSWEOjACGDYZ",
        "colab_type": "code",
        "colab": {
          "base_uri": "https://localhost:8080/",
          "height": 312
        },
        "outputId": "83fd95d7-7545-4b9a-e21d-9cced1ab9bff"
      },
      "source": [
        "horizontal = np.loadtxt(\"/content/drive/My Drive/horizontal_data\", delimiter = \",\")\n",
        "horizontal_time = horizontal[:, 0]\n",
        "horizontal_x = horizontal[:, 1] #in meters\n",
        "horizontal_y = horizontal[:, 2]\n",
        "\n",
        "x_position, cov_x = np.polyfit(horizontal_time, horizontal_x, 1, cov = True) #linear \n",
        "y_position, cov_y = np.polyfit(horizontal_time, horizontal_y, 2, cov = True)\n",
        "x_equation = x_position[0] * horizontal_time + x_position[1]\n",
        "y_equation = y_position[0] * (horizontal_time ** 2) + y_position[1] * horizontal_time + y_position[2]\n",
        "\n",
        "plt.title(\"Horizontal Position vs. Time\")\n",
        "plt.xlabel(\"Time(s)\")\n",
        "plt.ylabel(\"Distance(m)\")\n",
        "plt.plot(horizontal_time, x_equation, label = 'horizontal fit')\n",
        "plt.scatter(horizontal_time, horizontal_x)\n",
        "plt.legend()\n",
        "\n"
      ],
      "execution_count": null,
      "outputs": [
        {
          "output_type": "execute_result",
          "data": {
            "text/plain": [
              "<matplotlib.legend.Legend at 0x7f5e4ab74e10>"
            ]
          },
          "metadata": {
            "tags": []
          },
          "execution_count": 61
        },
        {
          "output_type": "display_data",
          "data": {
            "image/png": "[encoded data removed]",
            "text/plain": [
              "<Figure size 432x288 with 1 Axes>"
            ]
          },
          "metadata": {
            "tags": [],
            "needs_background": "light"
          }
        }
      ]
    },
    {
      "cell_type": "code",
      "metadata": {
        "id": "4NQkopPtMrmq",
        "colab_type": "code",
        "colab": {
          "base_uri": "https://localhost:8080/",
          "height": 312
        },
        "outputId": "11723cc7-bc47-44bd-a996-a17564db7dfb"
      },
      "source": [
        "plt.title(\"Vertical Position vs. Time\")\n",
        "plt.xlabel(\"Time(s)\")\n",
        "plt.ylabel(\"Distance(m)\")\n",
        "plt.plot(horizontal_time, y_equation, label = 'vertical fit')\n",
        "plt.scatter(horizontal_time, horizontal_y)"
      ],
      "execution_count": null,
      "outputs": [
        {
          "output_type": "execute_result",
          "data": {
            "text/plain": [
              "<matplotlib.collections.PathCollection at 0x7f5e4ad60940>"
            ]
          },
          "metadata": {
            "tags": []
          },
          "execution_count": 62
        },
        {
          "output_type": "display_data",
          "data": {
            "image/png": "[encoded data removed]",
            "text/plain": [
              "<Figure size 432x288 with 1 Axes>"
            ]
          },
          "metadata": {
            "tags": [],
            "needs_background": "light"
          }
        }
      ]
    },
    {
      "cell_type": "code",
      "metadata": {
        "id": "sSg4Muw8OFOT",
        "colab_type": "code",
        "colab": {
          "base_uri": "https://localhost:8080/",
          "height": 136
        },
        "outputId": "a4a9fe6d-1c0c-4ee0-f193-a3495f938826"
      },
      "source": [
        "error_x = cov_x\n",
        "print(\"Initial velocity for X Graph(m/s): \" + str(x_position[0]))\n",
        "print(\"Error for initial velocity in X Graph: \" + str(error_x[0,0])) #error for initial velocity \n",
        "print()\n",
        "error_y = cov_y\n",
        "print(\"Initial acceleration downward for Y Graph(m/s): \" + str(y_position[0] * -2))\n",
        "print(\"Initial velocity for Y Graph(m/s^2): \" + str(y_position[1]))\n",
        "print(\"Error for initial acceleration in Y Graph: \" + str(error_y[0,0])) #initial acceleration\n",
        "print(\"Error for initial velocity in Y Graph: \" + str(error_y[1,0]))"
      ],
      "execution_count": null,
      "outputs": [
        {
          "output_type": "stream",
          "text": [
            "Initial velocity for X Graph(m/s): 0.9427186539575899\n",
            "Error for initial velocity in X Graph: 0.00022621037699786177\n",
            "\n",
            "Initial acceleration downward for Y Graph(m/s): 6.173085484809202\n",
            "Initial velocity for Y Graph(m/s^2): -0.49180451571997874\n",
            "Error for initial acceleration in Y Graph: 0.006780820574313119\n",
            "Error for initial velocity in Y Graph: -0.0029383555821074687\n"
          ],
          "name": "stdout"
        }
      ]
    },
    {
      "cell_type": "code",
      "metadata": {
        "id": "F5cjkHL9PcEK",
        "colab_type": "code",
        "colab": {}
      },
      "source": [
        "#potential reasons for error: motion blur faster speeds, camera angle changes as ball falls "
      ],
      "execution_count": null,
      "outputs": []
    }
  ]
}