{
  "nbformat": 4,
  "nbformat_minor": 0,
  "metadata": {
    "colab": {
      "name": "Lab 2",
      "provenance": [],
      "collapsed_sections": [],
      "authorship_tag": "ABX9TyO5IVaTudvZ3hCHc3zLYEmi"
    },
    "kernelspec": {
      "name": "python3",
      "display_name": "Python 3"
    }
  },
  "cells": [
    {
      "cell_type": "code",
      "metadata": {
        "id": "1hXvH0GpFkdz",
        "colab_type": "code",
        "colab": {
          "base_uri": "https://localhost:8080/",
          "height": 34
        },
        "outputId": "ed202a21-f492-484b-c19d-33b0a96dcd51"
      },
      "source": [
        "from google.colab import drive\n",
        "drive.mount('drive')"
      ],
      "execution_count": null,
      "outputs": [
        {
          "output_type": "stream",
          "text": [
            "Drive already mounted at drive; to attempt to forcibly remount, call drive.mount(\"drive\", force_remount=True).\n"
          ],
          "name": "stdout"
        }
      ]
    },
    {
      "cell_type": "code",
      "metadata": {
        "id": "GFXor_ygGZcU",
        "colab_type": "code",
        "colab": {
          "base_uri": "https://localhost:8080/",
          "height": 347
        },
        "outputId": "3b3ceeee-64e5-4a99-d852-795a25a33e7b"
      },
      "source": [
        "import numpy as np\n",
        "import matplotlib.pyplot as plt\n",
        "\n",
        "distance = np.array([5.0, 10.0, 15.0, 20.0, 25.0, 30.0])\n",
        "print(distance)\n",
        "duration_model = distance * 2 / (34300) * (10**6) #distance is multiplied by two because the wave has to bounce back\n",
        "duration_data = np.loadtxt(\"/content/drive/My Drive/2A data - Sheet1.csv\", delimiter = \",\")\n",
        "duration_5 = np.mean(duration_data[:, 0])\n",
        "duration_5_std = np.std(duration_data[:, 0])\n",
        "\n",
        "duration_10 = np.mean(duration_data[:, 1])\n",
        "duration_10_std = np.std(duration_data[:, 1])\n",
        "\n",
        "duration_15 = np.mean(duration_data[:, 2])\n",
        "duration_15_std = np.std(duration_data[:, 2])\n",
        "\n",
        "duration_20 = np.mean(duration_data[:, 3])\n",
        "duration_20_std = np.std(duration_data[:, 3])\n",
        "\n",
        "duration_25 = np.mean(duration_data[:, 4])\n",
        "duration_25_std = np.std(duration_data[:, 4])\n",
        "\n",
        "duration_30 = np.mean(duration_data[:, 5])\n",
        "duration_30_std = np.std(duration_data[:, 5])\n",
        "\n",
        "duration  = [duration_5, duration_10, duration_15, duration_20, duration_25, duration_30]\n",
        "duration_std = [duration_5_std, duration_10_std, duration_15_std, duration_20_std, duration_25_std, duration_30_std]\n",
        "print(duration)\n",
        "print(duration_std)\n",
        "\n",
        "plt.plot(distance, duration_model, color = 'red', label = 'Model')\n",
        "#plt.scatter(distance, duration, label = 'Data')\n",
        "plt.errorbar(distance, duration_model, xerr = [0.1, 0.1, 0.1, 0.1, 0.1, 0.1], yerr = duration_std, label = 'Data') \n",
        "#std too small\n",
        "plt.legend()\n",
        "plt.xlabel('Distance(cm)')\n",
        "plt.ylabel('Duration(μs)')"
      ],
      "execution_count": null,
      "outputs": [
        {
          "output_type": "stream",
          "text": [
            "[ 5. 10. 15. 20. 25. 30.]\n",
            "[336.7676767676768, 586.2020202020202, 916.3939393939394, 1427.7070707070707, 1588.5757575757575, 1783.4848484848485]\n",
            "[3.9101739423147444, 3.7469982544409866, 6.137841198840639, 27.334904805251696, 15.488080075531604, 12.678115747871885]\n"
          ],
          "name": "stdout"
        },
        {
          "output_type": "execute_result",
          "data": {
            "text/plain": [
              "Text(0, 0.5, 'Duration(μs)')"
            ]
          },
          "metadata": {
            "tags": []
          },
          "execution_count": 6
        },
        {
          "output_type": "display_data",
          "data": {
            "image/png": "[encoded data removed]",
            "text/plain": [
              "<Figure size 432x288 with 1 Axes>"
            ]
          },
          "metadata": {
            "tags": [],
            "needs_background": "light"
          }
        }
      ]
    },
    {
      "cell_type": "code",
      "metadata": {
        "id": "S1n4pV0EQFMW",
        "colab_type": "code",
        "colab": {}
      },
      "source": [
        ""
      ],
      "execution_count": null,
      "outputs": []
    },
    {
      "cell_type": "code",
      "metadata": {
        "id": "SB99UYRKO2zr",
        "colab_type": "code",
        "colab": {
          "base_uri": "https://localhost:8080/",
          "height": 51
        },
        "outputId": "e7834928-4856-48d8-c4f8-e41240ea61b8"
      },
      "source": [
        "results, cov = np.polyfit(distance, duration, 1, cov = True)\n",
        "#gives a polynomial model to fit data based on degree 1 or 2 etc.\n",
        "slope = results[0]\n",
        "print(\"Slope:\"  + str(slope))\n",
        "slope_variance = cov[0,0]\n",
        "#error = 0.07945460796909123\n",
        "error = np.sqrt(slope_variance) / np.abs(slope)\n",
        "print(\"Error : \" + str(error))\n",
        "\n",
        "#speed of sound\n",
        "#325.5m/s\n",
        "#slope = duration/distance = t/d but distance should be doubled so slope = t/2d -> v = d/t = 1/slope = 2d/t\n",
        "#error: 5.25%\n",
        " \n",
        "intercept = results[1]\n",
        "intercept_variance = cov[1,1]/100\n",
        "\n",
        "model_for_data = slope * distance + intercept\n",
        "error_model_for_data = (slope + slope_variance) * distance + intercept + intercept_variance\n",
        "\n"
      ],
      "execution_count": null,
      "outputs": [
        {
          "output_type": "stream",
          "text": [
            "Slope:61.44011544011545\n",
            "Error : 0.07945460796909123\n"
          ],
          "name": "stdout"
        }
      ]
    },
    {
      "cell_type": "code",
      "metadata": {
        "id": "x0KmsPMAnDxv",
        "colab_type": "code",
        "colab": {}
      },
      "source": [
        ""
      ],
      "execution_count": null,
      "outputs": []
    },
    {
      "cell_type": "code",
      "metadata": {
        "id": "VegYOdMjQG31",
        "colab_type": "code",
        "colab": {
          "base_uri": "https://localhost:8080/",
          "height": 296
        },
        "outputId": "95e64375-6277-477d-cfa4-a5642382b421"
      },
      "source": [
        "plt.plot(distance, duration_model, color = 'red', label = 'Model')\n",
        "#plt.plot(distance, model_for_data, color = 'green', label = 'My data')\n",
        "plt.scatter(distance, model_for_data, label = 'Data')\n",
        "#plt.errorbar(distance, duration_model, xerr = [0.1, 0.1, 0.1, 0.1, 0.1, 0.1], yerr = duration_std, label = 'Data') \n",
        "#plt.errorbar(distance, model_for_data, xerr = [0.1, 0.1, 0.1, 0.1, 0.1, 0.1], yerr = error_model_for_data, label = 'Data') \n",
        "\n",
        "#std too small\n",
        "plt.legend()\n",
        "plt.xlabel('Distance(cm)')\n",
        "plt.ylabel('Duration(μs)')"
      ],
      "execution_count": null,
      "outputs": [
        {
          "output_type": "execute_result",
          "data": {
            "text/plain": [
              "Text(0, 0.5, 'Duration(μs)')"
            ]
          },
          "metadata": {
            "tags": []
          },
          "execution_count": 8
        },
        {
          "output_type": "display_data",
          "data": {
            "image/png": "[encoded data removed]",
            "text/plain": [
              "<Figure size 432x288 with 1 Axes>"
            ]
          },
          "metadata": {
            "tags": [],
            "needs_background": "light"
          }
        }
      ]
    },
    {
      "cell_type": "code",
      "metadata": {
        "id": "e4Fogm33XHQZ",
        "colab_type": "code",
        "colab": {
          "base_uri": "https://localhost:8080/",
          "height": 298
        },
        "outputId": "1e8fccc8-3875-4d55-a28e-95971a9b0355"
      },
      "source": [
        "#accelerating portion one dataset\n",
        "one_data = np.loadtxt(\"/content/drive/My Drive/2B Tests/2B Data - Sheet6.csv\", delimiter = ',')\n",
        "one_data_times = one_data[:,0]\n",
        "one_data_distances = one_data[:,1]\n",
        "plt.scatter(one_data_times, one_data_distances, color = 'red')\n",
        "plt.title(\"Distance vs. Time(~30cm)\")"
      ],
      "execution_count": null,
      "outputs": [
        {
          "output_type": "execute_result",
          "data": {
            "text/plain": [
              "Text(0.5, 1.0, 'Distance vs. Time(~30cm)')"
            ]
          },
          "metadata": {
            "tags": []
          },
          "execution_count": 9
        },
        {
          "output_type": "display_data",
          "data": {
            "image/png": "[encoded data removed]",
            "text/plain": [
              "<Figure size 432x288 with 1 Axes>"
            ]
          },
          "metadata": {
            "tags": [],
            "needs_background": "light"
          }
        }
      ]
    },
    {
      "cell_type": "code",
      "metadata": {
        "id": "5u1XXpwrnE2t",
        "colab_type": "code",
        "colab": {
          "base_uri": "https://localhost:8080/",
          "height": 363
        },
        "outputId": "c1d8efb0-9f1b-4684-efab-6ee2336a199d"
      },
      "source": [
        "#polyfit data for equation\n",
        "fall_equation, fall_cov = np.polyfit(one_data_times, one_data_distances, 2, cov = True)\n",
        "#fall equation is in quadratic format: 1/2at^2 + voT + initial height \n",
        "print(\"Gravity/Acceleration \" + str((fall_equation[0] * 2 * (10**4))))\n",
        "print(fall_equation[1])\n",
        "print(fall_equation[2])\n",
        "\n",
        "y_equ = fall_equation[0] * (one_data_times ** 2) + fall_equation[1] * one_data_times + fall_equation[2]\n",
        "plt.plot(one_data_times, y_equ, color = 'blue', label = 'fit equation')\n",
        "plt.scatter(one_data_times, one_data_distances, color = 'red', label = 'data')\n",
        "plt.title(\"Distance vs. Time(~30cm)\")\n",
        "plt.xlabel(\"Time(microseconds)\")\n",
        "plt.ylabel(\"Distance(cm)\")\n",
        "plt.legend()"
      ],
      "execution_count": null,
      "outputs": [
        {
          "output_type": "stream",
          "text": [
            "Gravity/Acceleration 9.805760451933887\n",
            "-0.5159692699201359\n",
            "138.2311063708354\n"
          ],
          "name": "stdout"
        },
        {
          "output_type": "execute_result",
          "data": {
            "text/plain": [
              "<matplotlib.legend.Legend at 0x7fb7c3d0d358>"
            ]
          },
          "metadata": {
            "tags": []
          },
          "execution_count": 10
        },
        {
          "output_type": "display_data",
          "data": {
            "image/png": "[encoded data removed]",
            "text/plain": [
              "<Figure size 432x288 with 1 Axes>"
            ]
          },
          "metadata": {
            "tags": [],
            "needs_background": "light"
          }
        }
      ]
    },
    {
      "cell_type": "code",
      "metadata": {
        "id": "Uaf9qAwMpflB",
        "colab_type": "code",
        "colab": {
          "base_uri": "https://localhost:8080/",
          "height": 363
        },
        "outputId": "c8ce60ff-e303-45f1-f4a2-8af11713d3df"
      },
      "source": [
        "#calculate derivative \n",
        "dxdt = np.gradient(one_data_distances, one_data_times)\n",
        "d2xdt = np.gradient(dxdt, one_data_times)\n",
        "plt.scatter(one_data_times, dxdt, label = 'velocity')\n",
        "plt.scatter(one_data_times, d2xdt, color = 'red', label = 'acceleration') #constant acceleration\n",
        "plt.title('Velocity and Acceleration Graphs for One Dataset (~30cm)')\n",
        "plt.xlabel(\"Time(microseconds)\")\n",
        "plt.ylabel(\"Distance(cm)\")\n",
        "plt.legend()\n",
        "plt.show()\n",
        "\n",
        "velocity = np.polyfit(one_data_times, dxdt, 1)\n",
        "acceleration = np.polyfit(one_data_times, d2xdt, 0)\n",
        "print(\"Gravity using velocity polyfit: \" + str (velocity[0] * (10**4)))\n",
        "print(np.std(dxdt))\n",
        "print(\"Gravity using acceleration polyfit: \" + str(acceleration[0] * (10 ** 5) * -1))\n",
        "print(np.std(d2xdt))"
      ],
      "execution_count": null,
      "outputs": [
        {
          "output_type": "display_data",
          "data": {
            "image/png": "[encoded data removed]",
            "text/plain": [
              "<Figure size 432x288 with 1 Axes>"
            ]
          },
          "metadata": {
            "tags": [],
            "needs_background": "light"
          }
        },
        {
          "output_type": "stream",
          "text": [
            "Gravity using velocity polyfit: 6.877195710135121\n",
            "0.06675549052240616\n",
            "Gravity using acceleration polyfit: 8.653150035391267\n",
            "0.0022458981721546808\n"
          ],
          "name": "stdout"
        }
      ]
    },
    {
      "cell_type": "code",
      "metadata": {
        "id": "sqYKbltqq3DY",
        "colab_type": "code",
        "colab": {
          "base_uri": "https://localhost:8080/",
          "height": 153
        },
        "outputId": "b54da44c-8cd4-4307-bc58-a3f811d42af0"
      },
      "source": [
        "import numpy as np\n",
        "#average gravity calculation\n",
        "data1 = np.loadtxt(\"/content/drive/My Drive/2B Tests/2B Data - Sheet2 (1).csv\", delimiter = ',')\n",
        "data2 = np.loadtxt(\"/content/drive/My Drive/2B Tests/2B Data - Sheet3.csv\", delimiter = ',')\n",
        "data3 = np.loadtxt(\"/content/drive/My Drive/2B Tests/2B Data - Sheet4.csv\", delimiter = ',')\n",
        "data4 = np.loadtxt(\"/content/drive/My Drive/2B Tests/2B Data - Sheet5.csv\", delimiter = ',')\n",
        "data5 = np.loadtxt(\"/content/drive/My Drive/2B Tests/2B Data - Sheet6.csv\", delimiter = ',')\n",
        "# data6 = np.loadtxt(\"/content/drive/My Drive/2B Tests/2B Data - Sheet7.csv\", delimiter = ',')\n",
        "# data7 = np.loadtxt(\"/content/drive/My Drive/2B Tests/2B Data - Sheet8.csv\", delimiter = ',')\n",
        "# data8 = np.loadtxt(\"/content/drive/My Drive/2B Tests/2B Data - Sheet9.csv\", delimiter = ',')\n",
        "# data9 = np.loadtxt(\"/content/drive/My Drive/2B Tests/2B Data - Sheet10.csv\", delimiter = ',')\n",
        "\n",
        "fall_equation1 = np.polyfit(data1[:,0], data1[:,1], 2)\n",
        "#fall_equation2 = np.polyfit(data2[:,0], data2[:,1], 2)\n",
        "fall_equation2 = [8.6051812300201 / 2 / (10**4)]\n",
        "fall_equation3 = np.polyfit(data3[:,0], data3[:,1], 2)\n",
        "fall_equation4 = np.polyfit(data4[:,0], data4[:,1], 2)\n",
        "fall_equation5 = np.polyfit(data5[:,0], data5[:,1], 2)\n",
        "\n",
        "# print(\"G(1): \" + str((fall_equation1[0] * 2 * (10**4))))\n",
        "# print(\"G(2): \" + str((fall_equation2[0] * 2 * (10**4))))\n",
        "# print(\"G(3): \" + str((fall_equation3[0] * 2 * (10**4))))\n",
        "# print(\"G(4): \" + str((fall_equation4[0] * 2 * (10**4))))\n",
        "# print(\"G(5): \" + str((fall_equation5[0] * 2 * (10**4))))\n",
        "\n",
        "average_g = (fall_equation1[0] + fall_equation2[0] + fall_equation3[0] + fall_equation4[0] + fall_equation5[0])/5\n",
        "print(\"Average(G): \" + str((average_g * 2 * (10**4))))\n",
        "\n",
        "average_g_std = np.std(np.array([fall_equation1[0] * 2 * (10**4), fall_equation2[0] * 2 * (10**4),fall_equation3[0] * 2 * (10**4), fall_equation4[0] * 2 * (10**4), fall_equation5[0]]* 2 * (10**4)))\n",
        "print(\"Average std: \" + str(0.674230115013437))\n",
        "\n",
        "print(\"np.polyfit: \" + str(fall_equation5[0] * (10**4)) + \" \" + str(fall_equation5[1]) + \" \" + str(fall_equation[2]) + \" \")\n",
        "grad = np.gradient(data1[:,1], data1[:,0])\n",
        "grad2 = np.gradient(grad, data1[:,0])\n",
        "print(grad2)\n",
        "print(np.mean(grad))\n",
        "print(np.std(grad))\n",
        "\n"
      ],
      "execution_count": null,
      "outputs": [
        {
          "output_type": "stream",
          "text": [
            "Average(G): 9.854490115563658\n",
            "Average std: 0.674230115013437\n",
            "np.polyfit: 4.9028802259669435 -0.5159692699201359 138.2311063708354 \n",
            "[-0.00108225 -0.00164914 -0.00061843  0.00163596  0.00099173 -0.00013771\n",
            "  0.00125493  0.00124339  0.00108167  0.00098333  0.00084829  0.00040404\n",
            "  0.0237037   0.04676329  0.04716733]\n",
            "0.3164345817382124\n",
            "0.6045028155733876\n"
          ],
          "name": "stdout"
        }
      ]
    },
    {
      "cell_type": "code",
      "metadata": {
        "id": "OCbaiqt_vM3q",
        "colab_type": "code",
        "colab": {}
      },
      "source": [
        ""
      ],
      "execution_count": null,
      "outputs": []
    }
  ]
}